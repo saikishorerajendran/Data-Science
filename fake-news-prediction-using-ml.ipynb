{
 "cells": [
  {
   "cell_type": "code",
   "execution_count": 1,
   "id": "e10655ab",
   "metadata": {
    "_cell_guid": "b1076dfc-b9ad-4769-8c92-a6c4dae69d19",
    "_uuid": "8f2839f25d086af736a60e9eeb907d3b93b6e0e5",
    "execution": {
     "iopub.execute_input": "2022-07-11T05:03:48.249868Z",
     "iopub.status.busy": "2022-07-11T05:03:48.248929Z",
     "iopub.status.idle": "2022-07-11T05:03:48.265722Z",
     "shell.execute_reply": "2022-07-11T05:03:48.264950Z"
    },
    "papermill": {
     "duration": 0.031786,
     "end_time": "2022-07-11T05:03:48.267987",
     "exception": false,
     "start_time": "2022-07-11T05:03:48.236201",
     "status": "completed"
    },
    "tags": []
   },
   "outputs": [
    {
     "name": "stdout",
     "output_type": "stream",
     "text": [
      "/kaggle/input/fake-news/submit.csv\n",
      "/kaggle/input/fake-news/train.csv\n",
      "/kaggle/input/fake-news/test.csv\n"
     ]
    }
   ],
   "source": [
    "# This Python 3 environment comes with many helpful analytics libraries installed\n",
    "# It is defined by the kaggle/python Docker image: https://github.com/kaggle/docker-python\n",
    "# For example, here's several helpful packages to load\n",
    "\n",
    "import numpy as np # linear algebra\n",
    "import pandas as pd # data processing, CSV file I/O (e.g. pd.read_csv)\n",
    "\n",
    "# Input data files are available in the read-only \"../input/\" directory\n",
    "# For example, running this (by clicking run or pressing Shift+Enter) will list all files under the input directory\n",
    "\n",
    "import os\n",
    "for dirname, _, filenames in os.walk('/kaggle/input'):\n",
    "    for filename in filenames:\n",
    "        print(os.path.join(dirname, filename))\n",
    "\n",
    "# You can write up to 20GB to the current directory (/kaggle/working/) that gets preserved as output when you create a version using \"Save & Run All\" \n",
    "# You can also write temporary files to /kaggle/temp/, but they won't be saved outside of the current session"
   ]
  },
  {
   "cell_type": "markdown",
   "id": "8a2f363c",
   "metadata": {
    "papermill": {
     "duration": 0.009182,
     "end_time": "2022-07-11T05:03:48.287169",
     "exception": false,
     "start_time": "2022-07-11T05:03:48.277987",
     "status": "completed"
    },
    "tags": []
   },
   "source": [
    "**Dataset Variables:**\n",
    "\n",
    "* id - Every article's ID (unique)\n",
    "* title - Title of the news article\n",
    "* author - Author of the article\n",
    "* text - The text of the article (might be incomplete)\n",
    "* label - Identification of article as Fake or not (Target Variable)"
   ]
  },
  {
   "cell_type": "code",
   "execution_count": 2,
   "id": "901b2e03",
   "metadata": {
    "execution": {
     "iopub.execute_input": "2022-07-11T05:03:48.308051Z",
     "iopub.status.busy": "2022-07-11T05:03:48.307197Z",
     "iopub.status.idle": "2022-07-11T05:03:49.900937Z",
     "shell.execute_reply": "2022-07-11T05:03:49.899917Z"
    },
    "papermill": {
     "duration": 1.606996,
     "end_time": "2022-07-11T05:03:49.903717",
     "exception": false,
     "start_time": "2022-07-11T05:03:48.296721",
     "status": "completed"
    },
    "tags": []
   },
   "outputs": [],
   "source": [
    "# Importing the dependencies \n",
    "\n",
    "import pandas as pd\n",
    "import numpy as np\n",
    "import re \n",
    "import nltk\n",
    "from nltk.corpus import stopwords\n",
    "from nltk.stem.porter import PorterStemmer\n",
    "from sklearn.feature_extraction.text import TfidfVectorizer\n",
    "from sklearn.model_selection import train_test_split\n",
    "from sklearn.linear_model import LogisticRegression\n",
    "from sklearn.metrics import accuracy_score"
   ]
  },
  {
   "cell_type": "markdown",
   "id": "63780536",
   "metadata": {
    "papermill": {
     "duration": 0.009551,
     "end_time": "2022-07-11T05:03:49.922776",
     "exception": false,
     "start_time": "2022-07-11T05:03:49.913225",
     "status": "completed"
    },
    "tags": []
   },
   "source": [
    "* Numpy and Pandas are used for handling and processing the csv data as a dataframe.\n",
    "* re is used for identifying/finding words or parts of words from an extract.\n",
    "* In NLTK, we use stopwords to identify the unnecessary words and Porter Stemmer performs stemming to reduce a word to its root word.\n",
    "* In sklearn, we use: TfidVectorizer to compute word occurrence frequency matrix. train_test_split to perform splitting of data. LogisticRegression is the classification model we are going to implement in this case. And accuracy_score is used to obtain the accuracy metrics of our model.\n"
   ]
  },
  {
   "cell_type": "code",
   "execution_count": 3,
   "id": "41f7bd03",
   "metadata": {
    "execution": {
     "iopub.execute_input": "2022-07-11T05:03:49.944485Z",
     "iopub.status.busy": "2022-07-11T05:03:49.944080Z",
     "iopub.status.idle": "2022-07-11T05:03:50.194156Z",
     "shell.execute_reply": "2022-07-11T05:03:50.192786Z"
    },
    "papermill": {
     "duration": 0.263881,
     "end_time": "2022-07-11T05:03:50.196488",
     "exception": false,
     "start_time": "2022-07-11T05:03:49.932607",
     "status": "completed"
    },
    "tags": []
   },
   "outputs": [
    {
     "name": "stdout",
     "output_type": "stream",
     "text": [
      "[nltk_data] Downloading package stopwords to /usr/share/nltk_data...\n",
      "[nltk_data]   Unzipping corpora/stopwords.zip.\n"
     ]
    },
    {
     "data": {
      "text/plain": [
       "True"
      ]
     },
     "execution_count": 3,
     "metadata": {},
     "output_type": "execute_result"
    }
   ],
   "source": [
    "# Download all the stopwords from the nltk library\n",
    "\n",
    "nltk.download('stopwords')"
   ]
  },
  {
   "cell_type": "code",
   "execution_count": 4,
   "id": "a73f3069",
   "metadata": {
    "execution": {
     "iopub.execute_input": "2022-07-11T05:03:50.217964Z",
     "iopub.status.busy": "2022-07-11T05:03:50.217586Z",
     "iopub.status.idle": "2022-07-11T05:03:50.225151Z",
     "shell.execute_reply": "2022-07-11T05:03:50.223503Z"
    },
    "papermill": {
     "duration": 0.021969,
     "end_time": "2022-07-11T05:03:50.228470",
     "exception": false,
     "start_time": "2022-07-11T05:03:50.206501",
     "status": "completed"
    },
    "tags": []
   },
   "outputs": [
    {
     "name": "stdout",
     "output_type": "stream",
     "text": [
      "['i', 'me', 'my', 'myself', 'we', 'our', 'ours', 'ourselves', 'you', \"you're\", \"you've\", \"you'll\", \"you'd\", 'your', 'yours', 'yourself', 'yourselves', 'he', 'him', 'his', 'himself', 'she', \"she's\", 'her', 'hers', 'herself', 'it', \"it's\", 'its', 'itself', 'they', 'them', 'their', 'theirs', 'themselves', 'what', 'which', 'who', 'whom', 'this', 'that', \"that'll\", 'these', 'those', 'am', 'is', 'are', 'was', 'were', 'be', 'been', 'being', 'have', 'has', 'had', 'having', 'do', 'does', 'did', 'doing', 'a', 'an', 'the', 'and', 'but', 'if', 'or', 'because', 'as', 'until', 'while', 'of', 'at', 'by', 'for', 'with', 'about', 'against', 'between', 'into', 'through', 'during', 'before', 'after', 'above', 'below', 'to', 'from', 'up', 'down', 'in', 'out', 'on', 'off', 'over', 'under', 'again', 'further', 'then', 'once', 'here', 'there', 'when', 'where', 'why', 'how', 'all', 'any', 'both', 'each', 'few', 'more', 'most', 'other', 'some', 'such', 'no', 'nor', 'not', 'only', 'own', 'same', 'so', 'than', 'too', 'very', 's', 't', 'can', 'will', 'just', 'don', \"don't\", 'should', \"should've\", 'now', 'd', 'll', 'm', 'o', 're', 've', 'y', 'ain', 'aren', \"aren't\", 'couldn', \"couldn't\", 'didn', \"didn't\", 'doesn', \"doesn't\", 'hadn', \"hadn't\", 'hasn', \"hasn't\", 'haven', \"haven't\", 'isn', \"isn't\", 'ma', 'mightn', \"mightn't\", 'mustn', \"mustn't\", 'needn', \"needn't\", 'shan', \"shan't\", 'shouldn', \"shouldn't\", 'wasn', \"wasn't\", 'weren', \"weren't\", 'won', \"won't\", 'wouldn', \"wouldn't\"]\n"
     ]
    }
   ],
   "source": [
    "# View the English stopwords that will be unnecessary for our analysis\n",
    "\n",
    "print(stopwords.words('english'))"
   ]
  },
  {
   "cell_type": "code",
   "execution_count": 5,
   "id": "7f13cf51",
   "metadata": {
    "execution": {
     "iopub.execute_input": "2022-07-11T05:03:50.250505Z",
     "iopub.status.busy": "2022-07-11T05:03:50.249747Z",
     "iopub.status.idle": "2022-07-11T05:03:52.607991Z",
     "shell.execute_reply": "2022-07-11T05:03:52.606949Z"
    },
    "papermill": {
     "duration": 2.371901,
     "end_time": "2022-07-11T05:03:52.610726",
     "exception": false,
     "start_time": "2022-07-11T05:03:50.238825",
     "status": "completed"
    },
    "tags": []
   },
   "outputs": [],
   "source": [
    "# Load the data into a dataframe\n",
    "\n",
    "news_df = pd.read_csv(\"/kaggle/input/fake-news/train.csv\")"
   ]
  },
  {
   "cell_type": "code",
   "execution_count": 6,
   "id": "91886cf3",
   "metadata": {
    "execution": {
     "iopub.execute_input": "2022-07-11T05:03:52.633565Z",
     "iopub.status.busy": "2022-07-11T05:03:52.633181Z",
     "iopub.status.idle": "2022-07-11T05:03:52.650715Z",
     "shell.execute_reply": "2022-07-11T05:03:52.649580Z"
    },
    "papermill": {
     "duration": 0.031039,
     "end_time": "2022-07-11T05:03:52.652950",
     "exception": false,
     "start_time": "2022-07-11T05:03:52.621911",
     "status": "completed"
    },
    "tags": []
   },
   "outputs": [
    {
     "data": {
      "text/html": [
       "<div>\n",
       "<style scoped>\n",
       "    .dataframe tbody tr th:only-of-type {\n",
       "        vertical-align: middle;\n",
       "    }\n",
       "\n",
       "    .dataframe tbody tr th {\n",
       "        vertical-align: top;\n",
       "    }\n",
       "\n",
       "    .dataframe thead th {\n",
       "        text-align: right;\n",
       "    }\n",
       "</style>\n",
       "<table border=\"1\" class=\"dataframe\">\n",
       "  <thead>\n",
       "    <tr style=\"text-align: right;\">\n",
       "      <th></th>\n",
       "      <th>id</th>\n",
       "      <th>title</th>\n",
       "      <th>author</th>\n",
       "      <th>text</th>\n",
       "      <th>label</th>\n",
       "    </tr>\n",
       "  </thead>\n",
       "  <tbody>\n",
       "    <tr>\n",
       "      <th>0</th>\n",
       "      <td>0</td>\n",
       "      <td>House Dem Aide: We Didn’t Even See Comey’s Let...</td>\n",
       "      <td>Darrell Lucus</td>\n",
       "      <td>House Dem Aide: We Didn’t Even See Comey’s Let...</td>\n",
       "      <td>1</td>\n",
       "    </tr>\n",
       "    <tr>\n",
       "      <th>1</th>\n",
       "      <td>1</td>\n",
       "      <td>FLYNN: Hillary Clinton, Big Woman on Campus - ...</td>\n",
       "      <td>Daniel J. Flynn</td>\n",
       "      <td>Ever get the feeling your life circles the rou...</td>\n",
       "      <td>0</td>\n",
       "    </tr>\n",
       "    <tr>\n",
       "      <th>2</th>\n",
       "      <td>2</td>\n",
       "      <td>Why the Truth Might Get You Fired</td>\n",
       "      <td>Consortiumnews.com</td>\n",
       "      <td>Why the Truth Might Get You Fired October 29, ...</td>\n",
       "      <td>1</td>\n",
       "    </tr>\n",
       "    <tr>\n",
       "      <th>3</th>\n",
       "      <td>3</td>\n",
       "      <td>15 Civilians Killed In Single US Airstrike Hav...</td>\n",
       "      <td>Jessica Purkiss</td>\n",
       "      <td>Videos 15 Civilians Killed In Single US Airstr...</td>\n",
       "      <td>1</td>\n",
       "    </tr>\n",
       "    <tr>\n",
       "      <th>4</th>\n",
       "      <td>4</td>\n",
       "      <td>Iranian woman jailed for fictional unpublished...</td>\n",
       "      <td>Howard Portnoy</td>\n",
       "      <td>Print \\nAn Iranian woman has been sentenced to...</td>\n",
       "      <td>1</td>\n",
       "    </tr>\n",
       "  </tbody>\n",
       "</table>\n",
       "</div>"
      ],
      "text/plain": [
       "   id                                              title              author  \\\n",
       "0   0  House Dem Aide: We Didn’t Even See Comey’s Let...       Darrell Lucus   \n",
       "1   1  FLYNN: Hillary Clinton, Big Woman on Campus - ...     Daniel J. Flynn   \n",
       "2   2                  Why the Truth Might Get You Fired  Consortiumnews.com   \n",
       "3   3  15 Civilians Killed In Single US Airstrike Hav...     Jessica Purkiss   \n",
       "4   4  Iranian woman jailed for fictional unpublished...      Howard Portnoy   \n",
       "\n",
       "                                                text  label  \n",
       "0  House Dem Aide: We Didn’t Even See Comey’s Let...      1  \n",
       "1  Ever get the feeling your life circles the rou...      0  \n",
       "2  Why the Truth Might Get You Fired October 29, ...      1  \n",
       "3  Videos 15 Civilians Killed In Single US Airstr...      1  \n",
       "4  Print \\nAn Iranian woman has been sentenced to...      1  "
      ]
     },
     "execution_count": 6,
     "metadata": {},
     "output_type": "execute_result"
    }
   ],
   "source": [
    "# View the dataframe's first few entries\n",
    "\n",
    "news_df.head()"
   ]
  },
  {
   "cell_type": "code",
   "execution_count": 7,
   "id": "0a8d34ed",
   "metadata": {
    "execution": {
     "iopub.execute_input": "2022-07-11T05:03:52.675496Z",
     "iopub.status.busy": "2022-07-11T05:03:52.674577Z",
     "iopub.status.idle": "2022-07-11T05:03:52.680470Z",
     "shell.execute_reply": "2022-07-11T05:03:52.679494Z"
    },
    "papermill": {
     "duration": 0.019633,
     "end_time": "2022-07-11T05:03:52.682603",
     "exception": false,
     "start_time": "2022-07-11T05:03:52.662970",
     "status": "completed"
    },
    "tags": []
   },
   "outputs": [
    {
     "data": {
      "text/plain": [
       "(20800, 5)"
      ]
     },
     "execution_count": 7,
     "metadata": {},
     "output_type": "execute_result"
    }
   ],
   "source": [
    "# Number of rows and columns in our dataframe (ROWS, COLUMNS)\n",
    "\n",
    "news_df.shape"
   ]
  },
  {
   "cell_type": "code",
   "execution_count": 8,
   "id": "60d85660",
   "metadata": {
    "execution": {
     "iopub.execute_input": "2022-07-11T05:03:52.704753Z",
     "iopub.status.busy": "2022-07-11T05:03:52.703666Z",
     "iopub.status.idle": "2022-07-11T05:03:52.736044Z",
     "shell.execute_reply": "2022-07-11T05:03:52.734807Z"
    },
    "papermill": {
     "duration": 0.046392,
     "end_time": "2022-07-11T05:03:52.738957",
     "exception": false,
     "start_time": "2022-07-11T05:03:52.692565",
     "status": "completed"
    },
    "tags": []
   },
   "outputs": [
    {
     "name": "stdout",
     "output_type": "stream",
     "text": [
      "<class 'pandas.core.frame.DataFrame'>\n",
      "RangeIndex: 20800 entries, 0 to 20799\n",
      "Data columns (total 5 columns):\n",
      " #   Column  Non-Null Count  Dtype \n",
      "---  ------  --------------  ----- \n",
      " 0   id      20800 non-null  int64 \n",
      " 1   title   20242 non-null  object\n",
      " 2   author  18843 non-null  object\n",
      " 3   text    20761 non-null  object\n",
      " 4   label   20800 non-null  int64 \n",
      "dtypes: int64(2), object(3)\n",
      "memory usage: 812.6+ KB\n"
     ]
    }
   ],
   "source": [
    "# View the general info about our dataframe columns\n",
    "\n",
    "news_df.info()"
   ]
  },
  {
   "cell_type": "markdown",
   "id": "2bfbad09",
   "metadata": {
    "papermill": {
     "duration": 0.010057,
     "end_time": "2022-07-11T05:03:52.759959",
     "exception": false,
     "start_time": "2022-07-11T05:03:52.749902",
     "status": "completed"
    },
    "tags": []
   },
   "source": [
    "Since there are differences in the number of non null entries in each column, we will now check the number of entries which are empty in each column."
   ]
  },
  {
   "cell_type": "code",
   "execution_count": 9,
   "id": "1207b404",
   "metadata": {
    "execution": {
     "iopub.execute_input": "2022-07-11T05:03:52.782954Z",
     "iopub.status.busy": "2022-07-11T05:03:52.781807Z",
     "iopub.status.idle": "2022-07-11T05:03:52.799584Z",
     "shell.execute_reply": "2022-07-11T05:03:52.798638Z"
    },
    "papermill": {
     "duration": 0.031635,
     "end_time": "2022-07-11T05:03:52.801862",
     "exception": false,
     "start_time": "2022-07-11T05:03:52.770227",
     "status": "completed"
    },
    "tags": []
   },
   "outputs": [
    {
     "data": {
      "text/plain": [
       "id           0\n",
       "title      558\n",
       "author    1957\n",
       "text        39\n",
       "label        0\n",
       "dtype: int64"
      ]
     },
     "execution_count": 9,
     "metadata": {},
     "output_type": "execute_result"
    }
   ],
   "source": [
    "# View number of null values in each column\n",
    "\n",
    "news_df.isna().sum()"
   ]
  },
  {
   "cell_type": "code",
   "execution_count": 10,
   "id": "f6ff6913",
   "metadata": {
    "execution": {
     "iopub.execute_input": "2022-07-11T05:03:52.825634Z",
     "iopub.status.busy": "2022-07-11T05:03:52.824247Z",
     "iopub.status.idle": "2022-07-11T05:03:52.839350Z",
     "shell.execute_reply": "2022-07-11T05:03:52.838540Z"
    },
    "papermill": {
     "duration": 0.029391,
     "end_time": "2022-07-11T05:03:52.841505",
     "exception": false,
     "start_time": "2022-07-11T05:03:52.812114",
     "status": "completed"
    },
    "tags": []
   },
   "outputs": [],
   "source": [
    "# Fill our Null values with an empty space\n",
    "\n",
    "news_df = news_df.fillna('')"
   ]
  },
  {
   "cell_type": "code",
   "execution_count": 11,
   "id": "7077f51d",
   "metadata": {
    "execution": {
     "iopub.execute_input": "2022-07-11T05:03:52.865304Z",
     "iopub.status.busy": "2022-07-11T05:03:52.864062Z",
     "iopub.status.idle": "2022-07-11T05:03:52.875595Z",
     "shell.execute_reply": "2022-07-11T05:03:52.874645Z"
    },
    "papermill": {
     "duration": 0.025448,
     "end_time": "2022-07-11T05:03:52.877872",
     "exception": false,
     "start_time": "2022-07-11T05:03:52.852424",
     "status": "completed"
    },
    "tags": []
   },
   "outputs": [],
   "source": [
    "# Merging the title and author columns in our dataframe\n",
    "\n",
    "news_df['article'] = news_df['title'] + news_df['author']"
   ]
  },
  {
   "cell_type": "code",
   "execution_count": 12,
   "id": "717efa76",
   "metadata": {
    "execution": {
     "iopub.execute_input": "2022-07-11T05:03:52.899975Z",
     "iopub.status.busy": "2022-07-11T05:03:52.899632Z",
     "iopub.status.idle": "2022-07-11T05:03:52.920545Z",
     "shell.execute_reply": "2022-07-11T05:03:52.919360Z"
    },
    "papermill": {
     "duration": 0.034638,
     "end_time": "2022-07-11T05:03:52.922823",
     "exception": false,
     "start_time": "2022-07-11T05:03:52.888185",
     "status": "completed"
    },
    "tags": []
   },
   "outputs": [
    {
     "data": {
      "text/html": [
       "<div>\n",
       "<style scoped>\n",
       "    .dataframe tbody tr th:only-of-type {\n",
       "        vertical-align: middle;\n",
       "    }\n",
       "\n",
       "    .dataframe tbody tr th {\n",
       "        vertical-align: top;\n",
       "    }\n",
       "\n",
       "    .dataframe thead th {\n",
       "        text-align: right;\n",
       "    }\n",
       "</style>\n",
       "<table border=\"1\" class=\"dataframe\">\n",
       "  <thead>\n",
       "    <tr style=\"text-align: right;\">\n",
       "      <th></th>\n",
       "      <th>id</th>\n",
       "      <th>title</th>\n",
       "      <th>author</th>\n",
       "      <th>text</th>\n",
       "      <th>label</th>\n",
       "      <th>article</th>\n",
       "    </tr>\n",
       "  </thead>\n",
       "  <tbody>\n",
       "    <tr>\n",
       "      <th>0</th>\n",
       "      <td>0</td>\n",
       "      <td>House Dem Aide: We Didn’t Even See Comey’s Let...</td>\n",
       "      <td>Darrell Lucus</td>\n",
       "      <td>House Dem Aide: We Didn’t Even See Comey’s Let...</td>\n",
       "      <td>1</td>\n",
       "      <td>House Dem Aide: We Didn’t Even See Comey’s Let...</td>\n",
       "    </tr>\n",
       "    <tr>\n",
       "      <th>1</th>\n",
       "      <td>1</td>\n",
       "      <td>FLYNN: Hillary Clinton, Big Woman on Campus - ...</td>\n",
       "      <td>Daniel J. Flynn</td>\n",
       "      <td>Ever get the feeling your life circles the rou...</td>\n",
       "      <td>0</td>\n",
       "      <td>FLYNN: Hillary Clinton, Big Woman on Campus - ...</td>\n",
       "    </tr>\n",
       "    <tr>\n",
       "      <th>2</th>\n",
       "      <td>2</td>\n",
       "      <td>Why the Truth Might Get You Fired</td>\n",
       "      <td>Consortiumnews.com</td>\n",
       "      <td>Why the Truth Might Get You Fired October 29, ...</td>\n",
       "      <td>1</td>\n",
       "      <td>Why the Truth Might Get You FiredConsortiumnew...</td>\n",
       "    </tr>\n",
       "    <tr>\n",
       "      <th>3</th>\n",
       "      <td>3</td>\n",
       "      <td>15 Civilians Killed In Single US Airstrike Hav...</td>\n",
       "      <td>Jessica Purkiss</td>\n",
       "      <td>Videos 15 Civilians Killed In Single US Airstr...</td>\n",
       "      <td>1</td>\n",
       "      <td>15 Civilians Killed In Single US Airstrike Hav...</td>\n",
       "    </tr>\n",
       "    <tr>\n",
       "      <th>4</th>\n",
       "      <td>4</td>\n",
       "      <td>Iranian woman jailed for fictional unpublished...</td>\n",
       "      <td>Howard Portnoy</td>\n",
       "      <td>Print \\nAn Iranian woman has been sentenced to...</td>\n",
       "      <td>1</td>\n",
       "      <td>Iranian woman jailed for fictional unpublished...</td>\n",
       "    </tr>\n",
       "    <tr>\n",
       "      <th>...</th>\n",
       "      <td>...</td>\n",
       "      <td>...</td>\n",
       "      <td>...</td>\n",
       "      <td>...</td>\n",
       "      <td>...</td>\n",
       "      <td>...</td>\n",
       "    </tr>\n",
       "    <tr>\n",
       "      <th>20795</th>\n",
       "      <td>20795</td>\n",
       "      <td>Rapper T.I.: Trump a ’Poster Child For White S...</td>\n",
       "      <td>Jerome Hudson</td>\n",
       "      <td>Rapper T. I. unloaded on black celebrities who...</td>\n",
       "      <td>0</td>\n",
       "      <td>Rapper T.I.: Trump a ’Poster Child For White S...</td>\n",
       "    </tr>\n",
       "    <tr>\n",
       "      <th>20796</th>\n",
       "      <td>20796</td>\n",
       "      <td>N.F.L. Playoffs: Schedule, Matchups and Odds -...</td>\n",
       "      <td>Benjamin Hoffman</td>\n",
       "      <td>When the Green Bay Packers lost to the Washing...</td>\n",
       "      <td>0</td>\n",
       "      <td>N.F.L. Playoffs: Schedule, Matchups and Odds -...</td>\n",
       "    </tr>\n",
       "    <tr>\n",
       "      <th>20797</th>\n",
       "      <td>20797</td>\n",
       "      <td>Macy’s Is Said to Receive Takeover Approach by...</td>\n",
       "      <td>Michael J. de la Merced and Rachel Abrams</td>\n",
       "      <td>The Macy’s of today grew from the union of sev...</td>\n",
       "      <td>0</td>\n",
       "      <td>Macy’s Is Said to Receive Takeover Approach by...</td>\n",
       "    </tr>\n",
       "    <tr>\n",
       "      <th>20798</th>\n",
       "      <td>20798</td>\n",
       "      <td>NATO, Russia To Hold Parallel Exercises In Bal...</td>\n",
       "      <td>Alex Ansary</td>\n",
       "      <td>NATO, Russia To Hold Parallel Exercises In Bal...</td>\n",
       "      <td>1</td>\n",
       "      <td>NATO, Russia To Hold Parallel Exercises In Bal...</td>\n",
       "    </tr>\n",
       "    <tr>\n",
       "      <th>20799</th>\n",
       "      <td>20799</td>\n",
       "      <td>What Keeps the F-35 Alive</td>\n",
       "      <td>David Swanson</td>\n",
       "      <td>David Swanson is an author, activist, journa...</td>\n",
       "      <td>1</td>\n",
       "      <td>What Keeps the F-35 AliveDavid Swanson</td>\n",
       "    </tr>\n",
       "  </tbody>\n",
       "</table>\n",
       "<p>20800 rows × 6 columns</p>\n",
       "</div>"
      ],
      "text/plain": [
       "          id                                              title  \\\n",
       "0          0  House Dem Aide: We Didn’t Even See Comey’s Let...   \n",
       "1          1  FLYNN: Hillary Clinton, Big Woman on Campus - ...   \n",
       "2          2                  Why the Truth Might Get You Fired   \n",
       "3          3  15 Civilians Killed In Single US Airstrike Hav...   \n",
       "4          4  Iranian woman jailed for fictional unpublished...   \n",
       "...      ...                                                ...   \n",
       "20795  20795  Rapper T.I.: Trump a ’Poster Child For White S...   \n",
       "20796  20796  N.F.L. Playoffs: Schedule, Matchups and Odds -...   \n",
       "20797  20797  Macy’s Is Said to Receive Takeover Approach by...   \n",
       "20798  20798  NATO, Russia To Hold Parallel Exercises In Bal...   \n",
       "20799  20799                          What Keeps the F-35 Alive   \n",
       "\n",
       "                                          author  \\\n",
       "0                                  Darrell Lucus   \n",
       "1                                Daniel J. Flynn   \n",
       "2                             Consortiumnews.com   \n",
       "3                                Jessica Purkiss   \n",
       "4                                 Howard Portnoy   \n",
       "...                                          ...   \n",
       "20795                              Jerome Hudson   \n",
       "20796                           Benjamin Hoffman   \n",
       "20797  Michael J. de la Merced and Rachel Abrams   \n",
       "20798                                Alex Ansary   \n",
       "20799                              David Swanson   \n",
       "\n",
       "                                                    text  label  \\\n",
       "0      House Dem Aide: We Didn’t Even See Comey’s Let...      1   \n",
       "1      Ever get the feeling your life circles the rou...      0   \n",
       "2      Why the Truth Might Get You Fired October 29, ...      1   \n",
       "3      Videos 15 Civilians Killed In Single US Airstr...      1   \n",
       "4      Print \\nAn Iranian woman has been sentenced to...      1   \n",
       "...                                                  ...    ...   \n",
       "20795  Rapper T. I. unloaded on black celebrities who...      0   \n",
       "20796  When the Green Bay Packers lost to the Washing...      0   \n",
       "20797  The Macy’s of today grew from the union of sev...      0   \n",
       "20798  NATO, Russia To Hold Parallel Exercises In Bal...      1   \n",
       "20799    David Swanson is an author, activist, journa...      1   \n",
       "\n",
       "                                                 article  \n",
       "0      House Dem Aide: We Didn’t Even See Comey’s Let...  \n",
       "1      FLYNN: Hillary Clinton, Big Woman on Campus - ...  \n",
       "2      Why the Truth Might Get You FiredConsortiumnew...  \n",
       "3      15 Civilians Killed In Single US Airstrike Hav...  \n",
       "4      Iranian woman jailed for fictional unpublished...  \n",
       "...                                                  ...  \n",
       "20795  Rapper T.I.: Trump a ’Poster Child For White S...  \n",
       "20796  N.F.L. Playoffs: Schedule, Matchups and Odds -...  \n",
       "20797  Macy’s Is Said to Receive Takeover Approach by...  \n",
       "20798  NATO, Russia To Hold Parallel Exercises In Bal...  \n",
       "20799             What Keeps the F-35 AliveDavid Swanson  \n",
       "\n",
       "[20800 rows x 6 columns]"
      ]
     },
     "execution_count": 12,
     "metadata": {},
     "output_type": "execute_result"
    }
   ],
   "source": [
    "news_df"
   ]
  },
  {
   "cell_type": "code",
   "execution_count": 13,
   "id": "44ae4aba",
   "metadata": {
    "execution": {
     "iopub.execute_input": "2022-07-11T05:03:52.946685Z",
     "iopub.status.busy": "2022-07-11T05:03:52.945701Z",
     "iopub.status.idle": "2022-07-11T05:03:52.957897Z",
     "shell.execute_reply": "2022-07-11T05:03:52.957023Z"
    },
    "papermill": {
     "duration": 0.026584,
     "end_time": "2022-07-11T05:03:52.960195",
     "exception": false,
     "start_time": "2022-07-11T05:03:52.933611",
     "status": "completed"
    },
    "tags": []
   },
   "outputs": [],
   "source": [
    "news_df.drop(columns=['id'], inplace=True)"
   ]
  },
  {
   "cell_type": "code",
   "execution_count": 14,
   "id": "26d2e85a",
   "metadata": {
    "execution": {
     "iopub.execute_input": "2022-07-11T05:03:52.983514Z",
     "iopub.status.busy": "2022-07-11T05:03:52.983129Z",
     "iopub.status.idle": "2022-07-11T05:03:52.999082Z",
     "shell.execute_reply": "2022-07-11T05:03:52.998018Z"
    },
    "papermill": {
     "duration": 0.030407,
     "end_time": "2022-07-11T05:03:53.001346",
     "exception": false,
     "start_time": "2022-07-11T05:03:52.970939",
     "status": "completed"
    },
    "tags": []
   },
   "outputs": [
    {
     "data": {
      "text/html": [
       "<div>\n",
       "<style scoped>\n",
       "    .dataframe tbody tr th:only-of-type {\n",
       "        vertical-align: middle;\n",
       "    }\n",
       "\n",
       "    .dataframe tbody tr th {\n",
       "        vertical-align: top;\n",
       "    }\n",
       "\n",
       "    .dataframe thead th {\n",
       "        text-align: right;\n",
       "    }\n",
       "</style>\n",
       "<table border=\"1\" class=\"dataframe\">\n",
       "  <thead>\n",
       "    <tr style=\"text-align: right;\">\n",
       "      <th></th>\n",
       "      <th>title</th>\n",
       "      <th>author</th>\n",
       "      <th>text</th>\n",
       "      <th>label</th>\n",
       "      <th>article</th>\n",
       "    </tr>\n",
       "  </thead>\n",
       "  <tbody>\n",
       "    <tr>\n",
       "      <th>0</th>\n",
       "      <td>House Dem Aide: We Didn’t Even See Comey’s Let...</td>\n",
       "      <td>Darrell Lucus</td>\n",
       "      <td>House Dem Aide: We Didn’t Even See Comey’s Let...</td>\n",
       "      <td>1</td>\n",
       "      <td>House Dem Aide: We Didn’t Even See Comey’s Let...</td>\n",
       "    </tr>\n",
       "    <tr>\n",
       "      <th>1</th>\n",
       "      <td>FLYNN: Hillary Clinton, Big Woman on Campus - ...</td>\n",
       "      <td>Daniel J. Flynn</td>\n",
       "      <td>Ever get the feeling your life circles the rou...</td>\n",
       "      <td>0</td>\n",
       "      <td>FLYNN: Hillary Clinton, Big Woman on Campus - ...</td>\n",
       "    </tr>\n",
       "    <tr>\n",
       "      <th>2</th>\n",
       "      <td>Why the Truth Might Get You Fired</td>\n",
       "      <td>Consortiumnews.com</td>\n",
       "      <td>Why the Truth Might Get You Fired October 29, ...</td>\n",
       "      <td>1</td>\n",
       "      <td>Why the Truth Might Get You FiredConsortiumnew...</td>\n",
       "    </tr>\n",
       "    <tr>\n",
       "      <th>3</th>\n",
       "      <td>15 Civilians Killed In Single US Airstrike Hav...</td>\n",
       "      <td>Jessica Purkiss</td>\n",
       "      <td>Videos 15 Civilians Killed In Single US Airstr...</td>\n",
       "      <td>1</td>\n",
       "      <td>15 Civilians Killed In Single US Airstrike Hav...</td>\n",
       "    </tr>\n",
       "    <tr>\n",
       "      <th>4</th>\n",
       "      <td>Iranian woman jailed for fictional unpublished...</td>\n",
       "      <td>Howard Portnoy</td>\n",
       "      <td>Print \\nAn Iranian woman has been sentenced to...</td>\n",
       "      <td>1</td>\n",
       "      <td>Iranian woman jailed for fictional unpublished...</td>\n",
       "    </tr>\n",
       "    <tr>\n",
       "      <th>...</th>\n",
       "      <td>...</td>\n",
       "      <td>...</td>\n",
       "      <td>...</td>\n",
       "      <td>...</td>\n",
       "      <td>...</td>\n",
       "    </tr>\n",
       "    <tr>\n",
       "      <th>20795</th>\n",
       "      <td>Rapper T.I.: Trump a ’Poster Child For White S...</td>\n",
       "      <td>Jerome Hudson</td>\n",
       "      <td>Rapper T. I. unloaded on black celebrities who...</td>\n",
       "      <td>0</td>\n",
       "      <td>Rapper T.I.: Trump a ’Poster Child For White S...</td>\n",
       "    </tr>\n",
       "    <tr>\n",
       "      <th>20796</th>\n",
       "      <td>N.F.L. Playoffs: Schedule, Matchups and Odds -...</td>\n",
       "      <td>Benjamin Hoffman</td>\n",
       "      <td>When the Green Bay Packers lost to the Washing...</td>\n",
       "      <td>0</td>\n",
       "      <td>N.F.L. Playoffs: Schedule, Matchups and Odds -...</td>\n",
       "    </tr>\n",
       "    <tr>\n",
       "      <th>20797</th>\n",
       "      <td>Macy’s Is Said to Receive Takeover Approach by...</td>\n",
       "      <td>Michael J. de la Merced and Rachel Abrams</td>\n",
       "      <td>The Macy’s of today grew from the union of sev...</td>\n",
       "      <td>0</td>\n",
       "      <td>Macy’s Is Said to Receive Takeover Approach by...</td>\n",
       "    </tr>\n",
       "    <tr>\n",
       "      <th>20798</th>\n",
       "      <td>NATO, Russia To Hold Parallel Exercises In Bal...</td>\n",
       "      <td>Alex Ansary</td>\n",
       "      <td>NATO, Russia To Hold Parallel Exercises In Bal...</td>\n",
       "      <td>1</td>\n",
       "      <td>NATO, Russia To Hold Parallel Exercises In Bal...</td>\n",
       "    </tr>\n",
       "    <tr>\n",
       "      <th>20799</th>\n",
       "      <td>What Keeps the F-35 Alive</td>\n",
       "      <td>David Swanson</td>\n",
       "      <td>David Swanson is an author, activist, journa...</td>\n",
       "      <td>1</td>\n",
       "      <td>What Keeps the F-35 AliveDavid Swanson</td>\n",
       "    </tr>\n",
       "  </tbody>\n",
       "</table>\n",
       "<p>20800 rows × 5 columns</p>\n",
       "</div>"
      ],
      "text/plain": [
       "                                                   title  \\\n",
       "0      House Dem Aide: We Didn’t Even See Comey’s Let...   \n",
       "1      FLYNN: Hillary Clinton, Big Woman on Campus - ...   \n",
       "2                      Why the Truth Might Get You Fired   \n",
       "3      15 Civilians Killed In Single US Airstrike Hav...   \n",
       "4      Iranian woman jailed for fictional unpublished...   \n",
       "...                                                  ...   \n",
       "20795  Rapper T.I.: Trump a ’Poster Child For White S...   \n",
       "20796  N.F.L. Playoffs: Schedule, Matchups and Odds -...   \n",
       "20797  Macy’s Is Said to Receive Takeover Approach by...   \n",
       "20798  NATO, Russia To Hold Parallel Exercises In Bal...   \n",
       "20799                          What Keeps the F-35 Alive   \n",
       "\n",
       "                                          author  \\\n",
       "0                                  Darrell Lucus   \n",
       "1                                Daniel J. Flynn   \n",
       "2                             Consortiumnews.com   \n",
       "3                                Jessica Purkiss   \n",
       "4                                 Howard Portnoy   \n",
       "...                                          ...   \n",
       "20795                              Jerome Hudson   \n",
       "20796                           Benjamin Hoffman   \n",
       "20797  Michael J. de la Merced and Rachel Abrams   \n",
       "20798                                Alex Ansary   \n",
       "20799                              David Swanson   \n",
       "\n",
       "                                                    text  label  \\\n",
       "0      House Dem Aide: We Didn’t Even See Comey’s Let...      1   \n",
       "1      Ever get the feeling your life circles the rou...      0   \n",
       "2      Why the Truth Might Get You Fired October 29, ...      1   \n",
       "3      Videos 15 Civilians Killed In Single US Airstr...      1   \n",
       "4      Print \\nAn Iranian woman has been sentenced to...      1   \n",
       "...                                                  ...    ...   \n",
       "20795  Rapper T. I. unloaded on black celebrities who...      0   \n",
       "20796  When the Green Bay Packers lost to the Washing...      0   \n",
       "20797  The Macy’s of today grew from the union of sev...      0   \n",
       "20798  NATO, Russia To Hold Parallel Exercises In Bal...      1   \n",
       "20799    David Swanson is an author, activist, journa...      1   \n",
       "\n",
       "                                                 article  \n",
       "0      House Dem Aide: We Didn’t Even See Comey’s Let...  \n",
       "1      FLYNN: Hillary Clinton, Big Woman on Campus - ...  \n",
       "2      Why the Truth Might Get You FiredConsortiumnew...  \n",
       "3      15 Civilians Killed In Single US Airstrike Hav...  \n",
       "4      Iranian woman jailed for fictional unpublished...  \n",
       "...                                                  ...  \n",
       "20795  Rapper T.I.: Trump a ’Poster Child For White S...  \n",
       "20796  N.F.L. Playoffs: Schedule, Matchups and Odds -...  \n",
       "20797  Macy’s Is Said to Receive Takeover Approach by...  \n",
       "20798  NATO, Russia To Hold Parallel Exercises In Bal...  \n",
       "20799             What Keeps the F-35 AliveDavid Swanson  \n",
       "\n",
       "[20800 rows x 5 columns]"
      ]
     },
     "execution_count": 14,
     "metadata": {},
     "output_type": "execute_result"
    }
   ],
   "source": [
    "news_df"
   ]
  },
  {
   "cell_type": "code",
   "execution_count": 15,
   "id": "4dc21260",
   "metadata": {
    "execution": {
     "iopub.execute_input": "2022-07-11T05:03:53.025304Z",
     "iopub.status.busy": "2022-07-11T05:03:53.024940Z",
     "iopub.status.idle": "2022-07-11T05:03:53.037434Z",
     "shell.execute_reply": "2022-07-11T05:03:53.036708Z"
    },
    "papermill": {
     "duration": 0.026387,
     "end_time": "2022-07-11T05:03:53.039323",
     "exception": false,
     "start_time": "2022-07-11T05:03:53.012936",
     "status": "completed"
    },
    "tags": []
   },
   "outputs": [
    {
     "data": {
      "text/plain": [
       "                                             1957\n",
       "Pam Key                                       243\n",
       "admin                                         193\n",
       "Jerome Hudson                                 166\n",
       "Charlie Spiering                              141\n",
       "                                             ... \n",
       "Jeremy R. Hammond                               1\n",
       "Vic Bishop                                      1\n",
       "Douglas Martin                                  1\n",
       "Najim Rahim and Fahim Abed                      1\n",
       "Michael J. de la Merced and Rachel Abrams       1\n",
       "Name: author, Length: 4202, dtype: int64"
      ]
     },
     "execution_count": 15,
     "metadata": {},
     "output_type": "execute_result"
    }
   ],
   "source": [
    "news_df[\"author\"].value_counts()"
   ]
  },
  {
   "cell_type": "code",
   "execution_count": 16,
   "id": "2c33e25f",
   "metadata": {
    "execution": {
     "iopub.execute_input": "2022-07-11T05:03:53.063168Z",
     "iopub.status.busy": "2022-07-11T05:03:53.062591Z",
     "iopub.status.idle": "2022-07-11T05:03:53.070298Z",
     "shell.execute_reply": "2022-07-11T05:03:53.069566Z"
    },
    "papermill": {
     "duration": 0.021989,
     "end_time": "2022-07-11T05:03:53.072281",
     "exception": false,
     "start_time": "2022-07-11T05:03:53.050292",
     "status": "completed"
    },
    "tags": []
   },
   "outputs": [],
   "source": [
    "# Separate the Target variable from the dataset\n",
    "\n",
    "X = news_df.drop(columns='label', axis=1)\n",
    "Y = news_df['label']"
   ]
  },
  {
   "cell_type": "code",
   "execution_count": 17,
   "id": "8c8b3d7f",
   "metadata": {
    "execution": {
     "iopub.execute_input": "2022-07-11T05:03:53.096216Z",
     "iopub.status.busy": "2022-07-11T05:03:53.095614Z",
     "iopub.status.idle": "2022-07-11T05:03:53.110359Z",
     "shell.execute_reply": "2022-07-11T05:03:53.109638Z"
    },
    "papermill": {
     "duration": 0.02894,
     "end_time": "2022-07-11T05:03:53.112323",
     "exception": false,
     "start_time": "2022-07-11T05:03:53.083383",
     "status": "completed"
    },
    "tags": []
   },
   "outputs": [
    {
     "data": {
      "text/html": [
       "<div>\n",
       "<style scoped>\n",
       "    .dataframe tbody tr th:only-of-type {\n",
       "        vertical-align: middle;\n",
       "    }\n",
       "\n",
       "    .dataframe tbody tr th {\n",
       "        vertical-align: top;\n",
       "    }\n",
       "\n",
       "    .dataframe thead th {\n",
       "        text-align: right;\n",
       "    }\n",
       "</style>\n",
       "<table border=\"1\" class=\"dataframe\">\n",
       "  <thead>\n",
       "    <tr style=\"text-align: right;\">\n",
       "      <th></th>\n",
       "      <th>title</th>\n",
       "      <th>author</th>\n",
       "      <th>text</th>\n",
       "      <th>article</th>\n",
       "    </tr>\n",
       "  </thead>\n",
       "  <tbody>\n",
       "    <tr>\n",
       "      <th>0</th>\n",
       "      <td>House Dem Aide: We Didn’t Even See Comey’s Let...</td>\n",
       "      <td>Darrell Lucus</td>\n",
       "      <td>House Dem Aide: We Didn’t Even See Comey’s Let...</td>\n",
       "      <td>House Dem Aide: We Didn’t Even See Comey’s Let...</td>\n",
       "    </tr>\n",
       "    <tr>\n",
       "      <th>1</th>\n",
       "      <td>FLYNN: Hillary Clinton, Big Woman on Campus - ...</td>\n",
       "      <td>Daniel J. Flynn</td>\n",
       "      <td>Ever get the feeling your life circles the rou...</td>\n",
       "      <td>FLYNN: Hillary Clinton, Big Woman on Campus - ...</td>\n",
       "    </tr>\n",
       "    <tr>\n",
       "      <th>2</th>\n",
       "      <td>Why the Truth Might Get You Fired</td>\n",
       "      <td>Consortiumnews.com</td>\n",
       "      <td>Why the Truth Might Get You Fired October 29, ...</td>\n",
       "      <td>Why the Truth Might Get You FiredConsortiumnew...</td>\n",
       "    </tr>\n",
       "    <tr>\n",
       "      <th>3</th>\n",
       "      <td>15 Civilians Killed In Single US Airstrike Hav...</td>\n",
       "      <td>Jessica Purkiss</td>\n",
       "      <td>Videos 15 Civilians Killed In Single US Airstr...</td>\n",
       "      <td>15 Civilians Killed In Single US Airstrike Hav...</td>\n",
       "    </tr>\n",
       "    <tr>\n",
       "      <th>4</th>\n",
       "      <td>Iranian woman jailed for fictional unpublished...</td>\n",
       "      <td>Howard Portnoy</td>\n",
       "      <td>Print \\nAn Iranian woman has been sentenced to...</td>\n",
       "      <td>Iranian woman jailed for fictional unpublished...</td>\n",
       "    </tr>\n",
       "    <tr>\n",
       "      <th>...</th>\n",
       "      <td>...</td>\n",
       "      <td>...</td>\n",
       "      <td>...</td>\n",
       "      <td>...</td>\n",
       "    </tr>\n",
       "    <tr>\n",
       "      <th>20795</th>\n",
       "      <td>Rapper T.I.: Trump a ’Poster Child For White S...</td>\n",
       "      <td>Jerome Hudson</td>\n",
       "      <td>Rapper T. I. unloaded on black celebrities who...</td>\n",
       "      <td>Rapper T.I.: Trump a ’Poster Child For White S...</td>\n",
       "    </tr>\n",
       "    <tr>\n",
       "      <th>20796</th>\n",
       "      <td>N.F.L. Playoffs: Schedule, Matchups and Odds -...</td>\n",
       "      <td>Benjamin Hoffman</td>\n",
       "      <td>When the Green Bay Packers lost to the Washing...</td>\n",
       "      <td>N.F.L. Playoffs: Schedule, Matchups and Odds -...</td>\n",
       "    </tr>\n",
       "    <tr>\n",
       "      <th>20797</th>\n",
       "      <td>Macy’s Is Said to Receive Takeover Approach by...</td>\n",
       "      <td>Michael J. de la Merced and Rachel Abrams</td>\n",
       "      <td>The Macy’s of today grew from the union of sev...</td>\n",
       "      <td>Macy’s Is Said to Receive Takeover Approach by...</td>\n",
       "    </tr>\n",
       "    <tr>\n",
       "      <th>20798</th>\n",
       "      <td>NATO, Russia To Hold Parallel Exercises In Bal...</td>\n",
       "      <td>Alex Ansary</td>\n",
       "      <td>NATO, Russia To Hold Parallel Exercises In Bal...</td>\n",
       "      <td>NATO, Russia To Hold Parallel Exercises In Bal...</td>\n",
       "    </tr>\n",
       "    <tr>\n",
       "      <th>20799</th>\n",
       "      <td>What Keeps the F-35 Alive</td>\n",
       "      <td>David Swanson</td>\n",
       "      <td>David Swanson is an author, activist, journa...</td>\n",
       "      <td>What Keeps the F-35 AliveDavid Swanson</td>\n",
       "    </tr>\n",
       "  </tbody>\n",
       "</table>\n",
       "<p>20800 rows × 4 columns</p>\n",
       "</div>"
      ],
      "text/plain": [
       "                                                   title  \\\n",
       "0      House Dem Aide: We Didn’t Even See Comey’s Let...   \n",
       "1      FLYNN: Hillary Clinton, Big Woman on Campus - ...   \n",
       "2                      Why the Truth Might Get You Fired   \n",
       "3      15 Civilians Killed In Single US Airstrike Hav...   \n",
       "4      Iranian woman jailed for fictional unpublished...   \n",
       "...                                                  ...   \n",
       "20795  Rapper T.I.: Trump a ’Poster Child For White S...   \n",
       "20796  N.F.L. Playoffs: Schedule, Matchups and Odds -...   \n",
       "20797  Macy’s Is Said to Receive Takeover Approach by...   \n",
       "20798  NATO, Russia To Hold Parallel Exercises In Bal...   \n",
       "20799                          What Keeps the F-35 Alive   \n",
       "\n",
       "                                          author  \\\n",
       "0                                  Darrell Lucus   \n",
       "1                                Daniel J. Flynn   \n",
       "2                             Consortiumnews.com   \n",
       "3                                Jessica Purkiss   \n",
       "4                                 Howard Portnoy   \n",
       "...                                          ...   \n",
       "20795                              Jerome Hudson   \n",
       "20796                           Benjamin Hoffman   \n",
       "20797  Michael J. de la Merced and Rachel Abrams   \n",
       "20798                                Alex Ansary   \n",
       "20799                              David Swanson   \n",
       "\n",
       "                                                    text  \\\n",
       "0      House Dem Aide: We Didn’t Even See Comey’s Let...   \n",
       "1      Ever get the feeling your life circles the rou...   \n",
       "2      Why the Truth Might Get You Fired October 29, ...   \n",
       "3      Videos 15 Civilians Killed In Single US Airstr...   \n",
       "4      Print \\nAn Iranian woman has been sentenced to...   \n",
       "...                                                  ...   \n",
       "20795  Rapper T. I. unloaded on black celebrities who...   \n",
       "20796  When the Green Bay Packers lost to the Washing...   \n",
       "20797  The Macy’s of today grew from the union of sev...   \n",
       "20798  NATO, Russia To Hold Parallel Exercises In Bal...   \n",
       "20799    David Swanson is an author, activist, journa...   \n",
       "\n",
       "                                                 article  \n",
       "0      House Dem Aide: We Didn’t Even See Comey’s Let...  \n",
       "1      FLYNN: Hillary Clinton, Big Woman on Campus - ...  \n",
       "2      Why the Truth Might Get You FiredConsortiumnew...  \n",
       "3      15 Civilians Killed In Single US Airstrike Hav...  \n",
       "4      Iranian woman jailed for fictional unpublished...  \n",
       "...                                                  ...  \n",
       "20795  Rapper T.I.: Trump a ’Poster Child For White S...  \n",
       "20796  N.F.L. Playoffs: Schedule, Matchups and Odds -...  \n",
       "20797  Macy’s Is Said to Receive Takeover Approach by...  \n",
       "20798  NATO, Russia To Hold Parallel Exercises In Bal...  \n",
       "20799             What Keeps the F-35 AliveDavid Swanson  \n",
       "\n",
       "[20800 rows x 4 columns]"
      ]
     },
     "execution_count": 17,
     "metadata": {},
     "output_type": "execute_result"
    }
   ],
   "source": [
    "X"
   ]
  },
  {
   "cell_type": "code",
   "execution_count": 18,
   "id": "090f60a5",
   "metadata": {
    "execution": {
     "iopub.execute_input": "2022-07-11T05:03:53.136374Z",
     "iopub.status.busy": "2022-07-11T05:03:53.135832Z",
     "iopub.status.idle": "2022-07-11T05:03:53.143532Z",
     "shell.execute_reply": "2022-07-11T05:03:53.142728Z"
    },
    "papermill": {
     "duration": 0.021793,
     "end_time": "2022-07-11T05:03:53.145428",
     "exception": false,
     "start_time": "2022-07-11T05:03:53.123635",
     "status": "completed"
    },
    "tags": []
   },
   "outputs": [
    {
     "data": {
      "text/plain": [
       "0        1\n",
       "1        0\n",
       "2        1\n",
       "3        1\n",
       "4        1\n",
       "        ..\n",
       "20795    0\n",
       "20796    0\n",
       "20797    0\n",
       "20798    1\n",
       "20799    1\n",
       "Name: label, Length: 20800, dtype: int64"
      ]
     },
     "execution_count": 18,
     "metadata": {},
     "output_type": "execute_result"
    }
   ],
   "source": [
    "Y"
   ]
  },
  {
   "cell_type": "markdown",
   "id": "7e3a3db5",
   "metadata": {
    "papermill": {
     "duration": 0.011196,
     "end_time": "2022-07-11T05:03:53.168305",
     "exception": false,
     "start_time": "2022-07-11T05:03:53.157109",
     "status": "completed"
    },
    "tags": []
   },
   "source": [
    "**Stemming Process**"
   ]
  },
  {
   "cell_type": "code",
   "execution_count": 19,
   "id": "bef82e28",
   "metadata": {
    "execution": {
     "iopub.execute_input": "2022-07-11T05:03:53.193442Z",
     "iopub.status.busy": "2022-07-11T05:03:53.192401Z",
     "iopub.status.idle": "2022-07-11T05:03:53.197391Z",
     "shell.execute_reply": "2022-07-11T05:03:53.196340Z"
    },
    "papermill": {
     "duration": 0.020219,
     "end_time": "2022-07-11T05:03:53.199898",
     "exception": false,
     "start_time": "2022-07-11T05:03:53.179679",
     "status": "completed"
    },
    "tags": []
   },
   "outputs": [],
   "source": [
    "p_stemming = PorterStemmer()"
   ]
  },
  {
   "cell_type": "code",
   "execution_count": 20,
   "id": "6de0608c",
   "metadata": {
    "execution": {
     "iopub.execute_input": "2022-07-11T05:03:53.225622Z",
     "iopub.status.busy": "2022-07-11T05:03:53.224707Z",
     "iopub.status.idle": "2022-07-11T05:03:53.231109Z",
     "shell.execute_reply": "2022-07-11T05:03:53.230438Z"
    },
    "papermill": {
     "duration": 0.021317,
     "end_time": "2022-07-11T05:03:53.233130",
     "exception": false,
     "start_time": "2022-07-11T05:03:53.211813",
     "status": "completed"
    },
    "tags": []
   },
   "outputs": [],
   "source": [
    "# Function to reduce the word to its original\n",
    "\n",
    "def stemming(content):\n",
    "    stemmed_word = re.sub('[^a-zA-Z]',' ',content)\n",
    "    stemmed_word = stemmed_word.lower()\n",
    "    stemmed_word = stemmed_word.split()\n",
    "    stemmed_word = [p_stemming.stem(word) for word in stemmed_word if not word in stopwords.words('english')]\n",
    "    stemmed_word = ' '.join(stemmed_word)\n",
    "    return stemmed_word"
   ]
  },
  {
   "cell_type": "code",
   "execution_count": 21,
   "id": "fad8b582",
   "metadata": {
    "execution": {
     "iopub.execute_input": "2022-07-11T05:03:53.258278Z",
     "iopub.status.busy": "2022-07-11T05:03:53.257663Z",
     "iopub.status.idle": "2022-07-11T05:04:36.858248Z",
     "shell.execute_reply": "2022-07-11T05:04:36.857116Z"
    },
    "papermill": {
     "duration": 43.616222,
     "end_time": "2022-07-11T05:04:36.861141",
     "exception": false,
     "start_time": "2022-07-11T05:03:53.244919",
     "status": "completed"
    },
    "tags": []
   },
   "outputs": [],
   "source": [
    "# Apply the above stemming function to the column having the article name and author together. \n",
    "\n",
    "news_df['article'] = news_df['article'].apply(stemming)"
   ]
  },
  {
   "cell_type": "code",
   "execution_count": 22,
   "id": "4382bd55",
   "metadata": {
    "execution": {
     "iopub.execute_input": "2022-07-11T05:04:36.886818Z",
     "iopub.status.busy": "2022-07-11T05:04:36.885736Z",
     "iopub.status.idle": "2022-07-11T05:04:36.893653Z",
     "shell.execute_reply": "2022-07-11T05:04:36.892754Z"
    },
    "papermill": {
     "duration": 0.022827,
     "end_time": "2022-07-11T05:04:36.895691",
     "exception": false,
     "start_time": "2022-07-11T05:04:36.872864",
     "status": "completed"
    },
    "tags": []
   },
   "outputs": [
    {
     "data": {
      "text/plain": [
       "0        hous dem aid even see comey letter jason chaff...\n",
       "1        flynn hillari clinton big woman campu breitbar...\n",
       "2                   truth might get firedconsortiumnew com\n",
       "3        civilian kill singl us airstrik identifiedjess...\n",
       "4        iranian woman jail fiction unpublish stori wom...\n",
       "                               ...                        \n",
       "20795    rapper trump poster child white supremaci jero...\n",
       "20796    n f l playoff schedul matchup odd new york tim...\n",
       "20797    maci said receiv takeov approach hudson bay ne...\n",
       "20798    nato russia hold parallel exercis balkansalex ...\n",
       "20799                            keep f alivedavid swanson\n",
       "Name: article, Length: 20800, dtype: object"
      ]
     },
     "execution_count": 22,
     "metadata": {},
     "output_type": "execute_result"
    }
   ],
   "source": [
    "news_df['article']"
   ]
  },
  {
   "cell_type": "code",
   "execution_count": 23,
   "id": "964112c6",
   "metadata": {
    "execution": {
     "iopub.execute_input": "2022-07-11T05:04:36.919864Z",
     "iopub.status.busy": "2022-07-11T05:04:36.919532Z",
     "iopub.status.idle": "2022-07-11T05:04:36.926363Z",
     "shell.execute_reply": "2022-07-11T05:04:36.925357Z"
    },
    "papermill": {
     "duration": 0.021585,
     "end_time": "2022-07-11T05:04:36.928613",
     "exception": false,
     "start_time": "2022-07-11T05:04:36.907028",
     "status": "completed"
    },
    "tags": []
   },
   "outputs": [
    {
     "data": {
      "text/plain": [
       "array(['hous dem aid even see comey letter jason chaffetz tweet itdarrel lucu',\n",
       "       'flynn hillari clinton big woman campu breitbartdaniel j flynn',\n",
       "       'truth might get firedconsortiumnew com', ...,\n",
       "       'maci said receiv takeov approach hudson bay new york timesmichael j de la merc rachel abram',\n",
       "       'nato russia hold parallel exercis balkansalex ansari',\n",
       "       'keep f alivedavid swanson'], dtype=object)"
      ]
     },
     "execution_count": 23,
     "metadata": {},
     "output_type": "execute_result"
    }
   ],
   "source": [
    "X = news_df['article'].values\n",
    "X"
   ]
  },
  {
   "cell_type": "code",
   "execution_count": 24,
   "id": "95233f7b",
   "metadata": {
    "execution": {
     "iopub.execute_input": "2022-07-11T05:04:36.953585Z",
     "iopub.status.busy": "2022-07-11T05:04:36.953191Z",
     "iopub.status.idle": "2022-07-11T05:04:36.960954Z",
     "shell.execute_reply": "2022-07-11T05:04:36.959786Z"
    },
    "papermill": {
     "duration": 0.023194,
     "end_time": "2022-07-11T05:04:36.963437",
     "exception": false,
     "start_time": "2022-07-11T05:04:36.940243",
     "status": "completed"
    },
    "tags": []
   },
   "outputs": [
    {
     "data": {
      "text/plain": [
       "array([1, 0, 1, ..., 0, 1, 1])"
      ]
     },
     "execution_count": 24,
     "metadata": {},
     "output_type": "execute_result"
    }
   ],
   "source": [
    "Y = news_df['label'].values\n",
    "Y"
   ]
  },
  {
   "cell_type": "code",
   "execution_count": 25,
   "id": "f3f50985",
   "metadata": {
    "execution": {
     "iopub.execute_input": "2022-07-11T05:04:36.989217Z",
     "iopub.status.busy": "2022-07-11T05:04:36.988880Z",
     "iopub.status.idle": "2022-07-11T05:04:37.647616Z",
     "shell.execute_reply": "2022-07-11T05:04:37.646509Z"
    },
    "papermill": {
     "duration": 0.674771,
     "end_time": "2022-07-11T05:04:37.650193",
     "exception": false,
     "start_time": "2022-07-11T05:04:36.975422",
     "status": "completed"
    },
    "tags": []
   },
   "outputs": [],
   "source": [
    "# Convert the text to numerical data using Vectorizer\n",
    "\n",
    "vectorizer = TfidfVectorizer()\n",
    "vectorizer.fit(X)\n",
    "X = vectorizer.transform(X)"
   ]
  },
  {
   "cell_type": "code",
   "execution_count": 26,
   "id": "09df72ec",
   "metadata": {
    "execution": {
     "iopub.execute_input": "2022-07-11T05:04:37.676694Z",
     "iopub.status.busy": "2022-07-11T05:04:37.676107Z",
     "iopub.status.idle": "2022-07-11T05:04:37.682622Z",
     "shell.execute_reply": "2022-07-11T05:04:37.681623Z"
    },
    "papermill": {
     "duration": 0.022075,
     "end_time": "2022-07-11T05:04:37.684676",
     "exception": false,
     "start_time": "2022-07-11T05:04:37.662601",
     "status": "completed"
    },
    "tags": []
   },
   "outputs": [
    {
     "data": {
      "text/plain": [
       "<20800x23585 sparse matrix of type '<class 'numpy.float64'>'\n",
       "\twith 196475 stored elements in Compressed Sparse Row format>"
      ]
     },
     "execution_count": 26,
     "metadata": {},
     "output_type": "execute_result"
    }
   ],
   "source": [
    "X"
   ]
  },
  {
   "cell_type": "code",
   "execution_count": 27,
   "id": "8c450ab8",
   "metadata": {
    "execution": {
     "iopub.execute_input": "2022-07-11T05:04:37.710416Z",
     "iopub.status.busy": "2022-07-11T05:04:37.710058Z",
     "iopub.status.idle": "2022-07-11T05:04:37.728650Z",
     "shell.execute_reply": "2022-07-11T05:04:37.727184Z"
    },
    "papermill": {
     "duration": 0.034564,
     "end_time": "2022-07-11T05:04:37.731263",
     "exception": false,
     "start_time": "2022-07-11T05:04:37.696699",
     "status": "completed"
    },
    "tags": []
   },
   "outputs": [],
   "source": [
    "# Splitting of Train and Test data\n",
    "\n",
    "X_train, X_test, Y_train, Y_test = train_test_split(X, Y, test_size = 0.2, stratify = Y, random_state = 1)"
   ]
  },
  {
   "cell_type": "code",
   "execution_count": 28,
   "id": "36e6558c",
   "metadata": {
    "execution": {
     "iopub.execute_input": "2022-07-11T05:04:37.757307Z",
     "iopub.status.busy": "2022-07-11T05:04:37.756929Z",
     "iopub.status.idle": "2022-07-11T05:04:37.761306Z",
     "shell.execute_reply": "2022-07-11T05:04:37.760356Z"
    },
    "papermill": {
     "duration": 0.019581,
     "end_time": "2022-07-11T05:04:37.763239",
     "exception": false,
     "start_time": "2022-07-11T05:04:37.743658",
     "status": "completed"
    },
    "tags": []
   },
   "outputs": [],
   "source": [
    "# Performing Logistic Regression\n",
    "\n",
    "ml_model = LogisticRegression()"
   ]
  },
  {
   "cell_type": "code",
   "execution_count": 29,
   "id": "419e7935",
   "metadata": {
    "execution": {
     "iopub.execute_input": "2022-07-11T05:04:37.788701Z",
     "iopub.status.busy": "2022-07-11T05:04:37.788296Z",
     "iopub.status.idle": "2022-07-11T05:04:38.169313Z",
     "shell.execute_reply": "2022-07-11T05:04:38.168219Z"
    },
    "papermill": {
     "duration": 0.397141,
     "end_time": "2022-07-11T05:04:38.172309",
     "exception": false,
     "start_time": "2022-07-11T05:04:37.775168",
     "status": "completed"
    },
    "tags": []
   },
   "outputs": [
    {
     "data": {
      "text/plain": [
       "LogisticRegression()"
      ]
     },
     "execution_count": 29,
     "metadata": {},
     "output_type": "execute_result"
    }
   ],
   "source": [
    "# Fit & Train our data\n",
    "\n",
    "ml_model.fit(X_train, Y_train)"
   ]
  },
  {
   "cell_type": "code",
   "execution_count": 30,
   "id": "fe2c4ed5",
   "metadata": {
    "execution": {
     "iopub.execute_input": "2022-07-11T05:04:38.268437Z",
     "iopub.status.busy": "2022-07-11T05:04:38.267868Z",
     "iopub.status.idle": "2022-07-11T05:04:38.278740Z",
     "shell.execute_reply": "2022-07-11T05:04:38.277538Z"
    },
    "papermill": {
     "duration": 0.080778,
     "end_time": "2022-07-11T05:04:38.281002",
     "exception": false,
     "start_time": "2022-07-11T05:04:38.200224",
     "status": "completed"
    },
    "tags": []
   },
   "outputs": [
    {
     "name": "stdout",
     "output_type": "stream",
     "text": [
      "Accuracy for Train data:  98.26322115384616\n"
     ]
    }
   ],
   "source": [
    "# Check for Accuracy (Train Data)\n",
    "\n",
    "X_train_predict = ml_model.predict(X_train)\n",
    "train_data_accuracy = accuracy_score(X_train_predict, Y_train)\n",
    "percent_tr_accuracy = train_data_accuracy * 100\n",
    "print(\"Accuracy for Train data: \", percent_tr_accuracy)"
   ]
  },
  {
   "cell_type": "code",
   "execution_count": 31,
   "id": "15d179bb",
   "metadata": {
    "execution": {
     "iopub.execute_input": "2022-07-11T05:04:38.307501Z",
     "iopub.status.busy": "2022-07-11T05:04:38.307137Z",
     "iopub.status.idle": "2022-07-11T05:04:38.314751Z",
     "shell.execute_reply": "2022-07-11T05:04:38.313268Z"
    },
    "papermill": {
     "duration": 0.024476,
     "end_time": "2022-07-11T05:04:38.317923",
     "exception": false,
     "start_time": "2022-07-11T05:04:38.293447",
     "status": "completed"
    },
    "tags": []
   },
   "outputs": [
    {
     "name": "stdout",
     "output_type": "stream",
     "text": [
      "Accuracy for Test data:  96.5625\n"
     ]
    }
   ],
   "source": [
    "# Check for Accuracy (Test Data)\n",
    "\n",
    "X_test_predict = ml_model.predict(X_test)\n",
    "test_data_accuracy = accuracy_score(X_test_predict, Y_test)\n",
    "percent_test_accuracy = test_data_accuracy * 100\n",
    "print(\"Accuracy for Test data: \", percent_test_accuracy)"
   ]
  },
  {
   "cell_type": "code",
   "execution_count": 32,
   "id": "9f18ce9e",
   "metadata": {
    "execution": {
     "iopub.execute_input": "2022-07-11T05:04:38.344762Z",
     "iopub.status.busy": "2022-07-11T05:04:38.344062Z",
     "iopub.status.idle": "2022-07-11T05:04:38.351663Z",
     "shell.execute_reply": "2022-07-11T05:04:38.350164Z"
    },
    "papermill": {
     "duration": 0.023612,
     "end_time": "2022-07-11T05:04:38.353886",
     "exception": false,
     "start_time": "2022-07-11T05:04:38.330274",
     "status": "completed"
    },
    "tags": []
   },
   "outputs": [
    {
     "name": "stdout",
     "output_type": "stream",
     "text": [
      "The News is fake\n"
     ]
    }
   ],
   "source": [
    "# Build a Simple Predictive System\n",
    "\n",
    "'''\n",
    "index = int(input(\"Enter article number to be verified: \"))\n",
    "^ To get article number as input from user\n",
    "'''\n",
    "\n",
    "X_new = X_test[26]\n",
    "new_predict = ml_model.predict(X_new)\n",
    "if(new_predict[0]==0):\n",
    "    print(\"The News is real\")\n",
    "else:\n",
    "    print(\"The News is fake\")"
   ]
  }
 ],
 "metadata": {
  "kernelspec": {
   "display_name": "Python 3",
   "language": "python",
   "name": "python3"
  },
  "language_info": {
   "codemirror_mode": {
    "name": "ipython",
    "version": 3
   },
   "file_extension": ".py",
   "mimetype": "text/x-python",
   "name": "python",
   "nbconvert_exporter": "python",
   "pygments_lexer": "ipython3",
   "version": "3.7.12"
  },
  "papermill": {
   "default_parameters": {},
   "duration": 60.399421,
   "end_time": "2022-07-11T05:04:39.086494",
   "environment_variables": {},
   "exception": null,
   "input_path": "__notebook__.ipynb",
   "output_path": "__notebook__.ipynb",
   "parameters": {},
   "start_time": "2022-07-11T05:03:38.687073",
   "version": "2.3.4"
  }
 },
 "nbformat": 4,
 "nbformat_minor": 5
}
